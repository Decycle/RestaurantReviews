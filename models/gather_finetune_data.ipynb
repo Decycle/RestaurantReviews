{
 "cells": [
  {
   "cell_type": "code",
   "execution_count": 3,
   "metadata": {},
   "outputs": [],
   "source": [
    "import os\n",
    "import urllib.request\n",
    "from tqdm import tqdm\n",
    "import pandas as pd\n",
    "import gzip"
   ]
  },
  {
   "cell_type": "markdown",
   "metadata": {},
   "source": [
    "Download Data"
   ]
  },
  {
   "cell_type": "code",
   "execution_count": null,
   "metadata": {},
   "outputs": [],
   "source": [
    "# download raw datafile to /dataset\n",
    "\n",
    "# https://stackoverflow.com/a/53877507/12802401 (Chris Chute)\n",
    "class DownloadProgressBar(tqdm):\n",
    "    def update_to(self, b=1, bsize=1, tsize=None):\n",
    "        if tsize is not None:\n",
    "            self.total = tsize\n",
    "        self.update(b * bsize - self.n)\n",
    "\n",
    "def download_url(url, output_path):\n",
    "    with DownloadProgressBar(unit='B', unit_scale=True,\n",
    "                             miniters=1, desc=url.split('/')[-1]) as t:\n",
    "        urllib.request.urlretrieve(url, filename=output_path, reporthook=t.update_to)\n",
    "\n",
    "def download_file(url, filename):\n",
    "    if not os.path.exists('dataset'):\n",
    "        os.makedirs('dataset')\n",
    "    if not os.path.exists(filename):\n",
    "        print('Downloading', url)\n",
    "        download_url(url, filename)\n",
    "    else:\n",
    "        print('File exists:', filename)"
   ]
  },
  {
   "cell_type": "code",
   "execution_count": 2,
   "metadata": {},
   "outputs": [],
   "source": [
    "review_url = 'https://datarepo.eng.ucsd.edu/mcauley_group/gdrive/googlelocal/review-California.json.gz'\n",
    "metadata_url = 'https://datarepo.eng.ucsd.edu/mcauley_group/gdrive/googlelocal/meta-California.json.gz'\n",
    "\n",
    "review_zip_file = 'dataset/review-California.json.gz'\n",
    "metadata_zip_file = 'dataset/meta-California.json.gz'\n",
    "\n",
    "review_file = 'dataset/review-California.json.gz'\n",
    "metadata_file = 'dataset/meta-California.json.gz'"
   ]
  },
  {
   "cell_type": "code",
   "execution_count": null,
   "metadata": {},
   "outputs": [],
   "source": [
    "download_file(review_url, review_zip_file)\n",
    "download_file(metadata_url, metadata_zip_file)"
   ]
  },
  {
   "cell_type": "markdown",
   "metadata": {},
   "source": [
    "unzip"
   ]
  },
  {
   "cell_type": "code",
   "execution_count": null,
   "metadata": {},
   "outputs": [],
   "source": [
    "# unzip the files\n",
    "def unzip_file(zip_file, output_file):\n",
    "    if not os.path.exists(output_file):\n",
    "        print('Unzipping', zip_file)\n",
    "        with gzip.open(zip_file, 'rb') as f:\n",
    "            with open(output_file, 'wb') as f_out:\n",
    "                f_out.write(f.read())\n",
    "    else:\n",
    "        print('File exists:', output_file)\n",
    "\n",
    "unzip_file(review_file, review_file)\n",
    "unzip_file(metadata_file, metadata_file)"
   ]
  },
  {
   "cell_type": "markdown",
   "metadata": {},
   "source": [
    "read in meta data to pandas"
   ]
  },
  {
   "cell_type": "code",
   "execution_count": 3,
   "metadata": {},
   "outputs": [],
   "source": [
    "metadata_df = pd.read_json(metadata_file, lines=True, encoding='utf-8')"
   ]
  },
  {
   "cell_type": "markdown",
   "metadata": {},
   "source": [
    "filter out the restaurants in Los Angeles"
   ]
  },
  {
   "cell_type": "code",
   "execution_count": 10,
   "metadata": {},
   "outputs": [
    {
     "data": {
      "text/html": [
       "<div>\n",
       "<style scoped>\n",
       "    .dataframe tbody tr th:only-of-type {\n",
       "        vertical-align: middle;\n",
       "    }\n",
       "\n",
       "    .dataframe tbody tr th {\n",
       "        vertical-align: top;\n",
       "    }\n",
       "\n",
       "    .dataframe thead th {\n",
       "        text-align: right;\n",
       "    }\n",
       "</style>\n",
       "<table border=\"1\" class=\"dataframe\">\n",
       "  <thead>\n",
       "    <tr style=\"text-align: right;\">\n",
       "      <th></th>\n",
       "      <th>name</th>\n",
       "      <th>address</th>\n",
       "      <th>gmap_id</th>\n",
       "      <th>description</th>\n",
       "      <th>latitude</th>\n",
       "      <th>longitude</th>\n",
       "      <th>category</th>\n",
       "      <th>avg_rating</th>\n",
       "      <th>num_of_reviews</th>\n",
       "      <th>price</th>\n",
       "      <th>hours</th>\n",
       "      <th>MISC</th>\n",
       "      <th>state</th>\n",
       "      <th>relative_results</th>\n",
       "      <th>url</th>\n",
       "    </tr>\n",
       "  </thead>\n",
       "  <tbody>\n",
       "    <tr>\n",
       "      <th>0</th>\n",
       "      <td>City Textile</td>\n",
       "      <td>City Textile, 3001 E Pico Blvd, Los Angeles, C...</td>\n",
       "      <td>0x80c2c98c0e3c16fd:0x29ec8a728764fdf9</td>\n",
       "      <td>None</td>\n",
       "      <td>34.018891</td>\n",
       "      <td>-118.215290</td>\n",
       "      <td>[Textile exporter]</td>\n",
       "      <td>4.5</td>\n",
       "      <td>6</td>\n",
       "      <td>None</td>\n",
       "      <td>None</td>\n",
       "      <td>None</td>\n",
       "      <td>Open now</td>\n",
       "      <td>[0x80c2c624136ea88b:0xb0315367ed448771, 0x80c2...</td>\n",
       "      <td>https://www.google.com/maps/place//data=!4m2!3...</td>\n",
       "    </tr>\n",
       "    <tr>\n",
       "      <th>1</th>\n",
       "      <td>San Soo Dang</td>\n",
       "      <td>San Soo Dang, 761 S Vermont Ave, Los Angeles, ...</td>\n",
       "      <td>0x80c2c778e3b73d33:0xbdc58662a4a97d49</td>\n",
       "      <td>None</td>\n",
       "      <td>34.058092</td>\n",
       "      <td>-118.292130</td>\n",
       "      <td>[Korean restaurant]</td>\n",
       "      <td>4.4</td>\n",
       "      <td>18</td>\n",
       "      <td>None</td>\n",
       "      <td>[[Thursday, 6:30AM–6PM], [Friday, 6:30AM–6PM],...</td>\n",
       "      <td>{'Service options': ['Takeout', 'Dine-in', 'De...</td>\n",
       "      <td>Open ⋅ Closes 6PM</td>\n",
       "      <td>[0x80c2c78249aba68f:0x35bf16ce61be751d, 0x80c2...</td>\n",
       "      <td>https://www.google.com/maps/place//data=!4m2!3...</td>\n",
       "    </tr>\n",
       "    <tr>\n",
       "      <th>2</th>\n",
       "      <td>Nova Fabrics</td>\n",
       "      <td>Nova Fabrics, 2200 E 11th St, Los Angeles, CA ...</td>\n",
       "      <td>0x80c2c89923b27a41:0x32041559418d447</td>\n",
       "      <td>None</td>\n",
       "      <td>34.023669</td>\n",
       "      <td>-118.232930</td>\n",
       "      <td>[Fabric store]</td>\n",
       "      <td>3.3</td>\n",
       "      <td>6</td>\n",
       "      <td>None</td>\n",
       "      <td>[[Thursday, 9AM–5PM], [Friday, 9AM–5PM], [Satu...</td>\n",
       "      <td>{'Service options': ['In-store shopping'], 'Pa...</td>\n",
       "      <td>Open ⋅ Closes 5PM</td>\n",
       "      <td>[0x80c2c8811477253f:0x23a8a492df1918f7, 0x80c2...</td>\n",
       "      <td>https://www.google.com/maps/place//data=!4m2!3...</td>\n",
       "    </tr>\n",
       "    <tr>\n",
       "      <th>3</th>\n",
       "      <td>Nobel Textile Co</td>\n",
       "      <td>Nobel Textile Co, 719 E 9th St, Los Angeles, C...</td>\n",
       "      <td>0x80c2c632f933b073:0xc31785961fe826a6</td>\n",
       "      <td>None</td>\n",
       "      <td>34.036694</td>\n",
       "      <td>-118.249421</td>\n",
       "      <td>[Fabric store]</td>\n",
       "      <td>4.3</td>\n",
       "      <td>7</td>\n",
       "      <td>None</td>\n",
       "      <td>[[Thursday, 9AM–5PM], [Friday, 9AM–5PM], [Satu...</td>\n",
       "      <td>{'Service options': ['In-store pickup']}</td>\n",
       "      <td>Open ⋅ Closes 5PM</td>\n",
       "      <td>[0x80c2c62c496083d1:0xdefa11317fe870a1, 0x80c2...</td>\n",
       "      <td>https://www.google.com/maps/place//data=!4m2!3...</td>\n",
       "    </tr>\n",
       "    <tr>\n",
       "      <th>34</th>\n",
       "      <td>Beads and More</td>\n",
       "      <td>Beads and More, 800 Maple Ave # 101, Los Angel...</td>\n",
       "      <td>0x80c2c6349f4c5123:0x847fe6c3b420dff8</td>\n",
       "      <td>None</td>\n",
       "      <td>34.040586</td>\n",
       "      <td>-118.251314</td>\n",
       "      <td>[Bead store, Craft store, Jewelry store, Natur...</td>\n",
       "      <td>3.3</td>\n",
       "      <td>18</td>\n",
       "      <td>None</td>\n",
       "      <td>[[Thursday, 9AM–5PM], [Friday, 9AM–5PM], [Satu...</td>\n",
       "      <td>{'Service options': ['In-store shopping'], 'Ac...</td>\n",
       "      <td>Open ⋅ Closes 5PM</td>\n",
       "      <td>[0x80c2c634a0eb5503:0xb47c327f4895fc3b, 0x80c2...</td>\n",
       "      <td>https://www.google.com/maps/place//data=!4m2!3...</td>\n",
       "    </tr>\n",
       "  </tbody>\n",
       "</table>\n",
       "</div>"
      ],
      "text/plain": [
       "                name                                            address  \\\n",
       "0       City Textile  City Textile, 3001 E Pico Blvd, Los Angeles, C...   \n",
       "1       San Soo Dang  San Soo Dang, 761 S Vermont Ave, Los Angeles, ...   \n",
       "2       Nova Fabrics  Nova Fabrics, 2200 E 11th St, Los Angeles, CA ...   \n",
       "3   Nobel Textile Co  Nobel Textile Co, 719 E 9th St, Los Angeles, C...   \n",
       "34    Beads and More  Beads and More, 800 Maple Ave # 101, Los Angel...   \n",
       "\n",
       "                                  gmap_id description   latitude   longitude  \\\n",
       "0   0x80c2c98c0e3c16fd:0x29ec8a728764fdf9        None  34.018891 -118.215290   \n",
       "1   0x80c2c778e3b73d33:0xbdc58662a4a97d49        None  34.058092 -118.292130   \n",
       "2    0x80c2c89923b27a41:0x32041559418d447        None  34.023669 -118.232930   \n",
       "3   0x80c2c632f933b073:0xc31785961fe826a6        None  34.036694 -118.249421   \n",
       "34  0x80c2c6349f4c5123:0x847fe6c3b420dff8        None  34.040586 -118.251314   \n",
       "\n",
       "                                             category  avg_rating  \\\n",
       "0                                  [Textile exporter]         4.5   \n",
       "1                                 [Korean restaurant]         4.4   \n",
       "2                                      [Fabric store]         3.3   \n",
       "3                                      [Fabric store]         4.3   \n",
       "34  [Bead store, Craft store, Jewelry store, Natur...         3.3   \n",
       "\n",
       "    num_of_reviews price                                              hours  \\\n",
       "0                6  None                                               None   \n",
       "1               18  None  [[Thursday, 6:30AM–6PM], [Friday, 6:30AM–6PM],...   \n",
       "2                6  None  [[Thursday, 9AM–5PM], [Friday, 9AM–5PM], [Satu...   \n",
       "3                7  None  [[Thursday, 9AM–5PM], [Friday, 9AM–5PM], [Satu...   \n",
       "34              18  None  [[Thursday, 9AM–5PM], [Friday, 9AM–5PM], [Satu...   \n",
       "\n",
       "                                                 MISC              state  \\\n",
       "0                                                None           Open now   \n",
       "1   {'Service options': ['Takeout', 'Dine-in', 'De...  Open ⋅ Closes 6PM   \n",
       "2   {'Service options': ['In-store shopping'], 'Pa...  Open ⋅ Closes 5PM   \n",
       "3            {'Service options': ['In-store pickup']}  Open ⋅ Closes 5PM   \n",
       "34  {'Service options': ['In-store shopping'], 'Ac...  Open ⋅ Closes 5PM   \n",
       "\n",
       "                                     relative_results  \\\n",
       "0   [0x80c2c624136ea88b:0xb0315367ed448771, 0x80c2...   \n",
       "1   [0x80c2c78249aba68f:0x35bf16ce61be751d, 0x80c2...   \n",
       "2   [0x80c2c8811477253f:0x23a8a492df1918f7, 0x80c2...   \n",
       "3   [0x80c2c62c496083d1:0xdefa11317fe870a1, 0x80c2...   \n",
       "34  [0x80c2c634a0eb5503:0xb47c327f4895fc3b, 0x80c2...   \n",
       "\n",
       "                                                  url  \n",
       "0   https://www.google.com/maps/place//data=!4m2!3...  \n",
       "1   https://www.google.com/maps/place//data=!4m2!3...  \n",
       "2   https://www.google.com/maps/place//data=!4m2!3...  \n",
       "3   https://www.google.com/maps/place//data=!4m2!3...  \n",
       "34  https://www.google.com/maps/place//data=!4m2!3...  "
      ]
     },
     "execution_count": 10,
     "metadata": {},
     "output_type": "execute_result"
    }
   ],
   "source": [
    "# filter out all restaurants in la\n",
    "indices = metadata_df['address'].str.contains('Los Angeles', case=False, na=False)\n",
    "la_metadata_df = metadata_df[indices]\n",
    "\n",
    "la_metadata_df.head()"
   ]
  },
  {
   "cell_type": "markdown",
   "metadata": {},
   "source": [
    "Save the data to a new csv file"
   ]
  },
  {
   "cell_type": "code",
   "execution_count": 12,
   "metadata": {},
   "outputs": [],
   "source": [
    "la_metadata_df.to_csv('dataset/la_metadata.csv', index=False)"
   ]
  },
  {
   "cell_type": "markdown",
   "metadata": {},
   "source": [
    "Get the gmap ids of the restaurants"
   ]
  },
  {
   "cell_type": "code",
   "execution_count": 19,
   "metadata": {},
   "outputs": [],
   "source": [
    "la_gmaps_ids = la_metadata_df['gmap_id'].values"
   ]
  },
  {
   "cell_type": "markdown",
   "metadata": {},
   "source": [
    "Load in data from review file in chunks, for each chunk, filter out reviews that has the same gmap id as the restaurants in Los Angeles"
   ]
  },
  {
   "cell_type": "code",
   "execution_count": 27,
   "metadata": {},
   "outputs": [
    {
     "name": "stderr",
     "output_type": "stream",
     "text": [
      "  0%|          | 0/71 [00:00<?, ?it/s]"
     ]
    },
    {
     "name": "stderr",
     "output_type": "stream",
     "text": [
      "100%|██████████| 71/71 [15:19<00:00, 12.95s/it]\n"
     ]
    }
   ],
   "source": [
    "# Very big file, so we load it in chunks\n",
    "total_lines = 70_529_977\n",
    "chunk_size = 1_000_000\n",
    "\n",
    "review_df = pd.read_json(review_file, lines=True, encoding='utf-8', chunksize=chunk_size)\n",
    "la_review_df = pd.DataFrame()\n",
    "\n",
    "for data in tqdm(review_df, total=total_lines//chunk_size + 1):\n",
    "    indices = data['gmap_id'].isin(la_gmaps_ids)\n",
    "    la_review_df = pd.concat([la_review_df, data[indices]], ignore_index=True)"
   ]
  },
  {
   "cell_type": "markdown",
   "metadata": {},
   "source": [
    "4953122 reviews in total"
   ]
  },
  {
   "cell_type": "code",
   "execution_count": 31,
   "metadata": {},
   "outputs": [
    {
     "data": {
      "text/plain": [
       "(4953122,\n",
       "         user_id               name           time  rating  \\\n",
       " 0  1.131656e+20      Michael Rizal  1599164133778     5.0   \n",
       " 1  1.012264e+20  Faranak Rafizadeh  1618261672851     5.0   \n",
       " 2  1.111677e+20       Javier Perez  1524515066787     5.0   \n",
       " 3  1.162309e+20            Luis P.  1499739139293     5.0   \n",
       " 4  1.041817e+20     His Mama Cakez  1621410940638     3.0   \n",
       " \n",
       "                                                 text  pics  resp  \\\n",
       " 0  Great company. Amazing customer service and th...  None  None   \n",
       " 1                               Nice people\\nhelpful  None  None   \n",
       " 2                                               None  None  None   \n",
       " 3                                               None  None  None   \n",
       " 4                                               None  None  None   \n",
       " \n",
       "                                  gmap_id  \n",
       " 0  0x80c2c98c0e3c16fd:0x29ec8a728764fdf9  \n",
       " 1  0x80c2c98c0e3c16fd:0x29ec8a728764fdf9  \n",
       " 2  0x80c2c98c0e3c16fd:0x29ec8a728764fdf9  \n",
       " 3  0x80c2c98c0e3c16fd:0x29ec8a728764fdf9  \n",
       " 4  0x80c2c98c0e3c16fd:0x29ec8a728764fdf9  )"
      ]
     },
     "execution_count": 31,
     "metadata": {},
     "output_type": "execute_result"
    }
   ],
   "source": [
    "len(la_review_df), la_review_df.head()"
   ]
  },
  {
   "cell_type": "markdown",
   "metadata": {},
   "source": [
    "Sanitize data for storing"
   ]
  },
  {
   "cell_type": "code",
   "execution_count": 32,
   "metadata": {},
   "outputs": [],
   "source": [
    "# Sanitize the data (remove |)\n",
    "for col in la_review_df.columns:\n",
    "    if la_review_df[col].dtype == 'object':\n",
    "        la_review_df[col] = la_review_df[col].str.replace('|', '')"
   ]
  },
  {
   "cell_type": "markdown",
   "metadata": {},
   "source": [
    "Discard all data that has no text or rating"
   ]
  },
  {
   "cell_type": "code",
   "execution_count": 43,
   "metadata": {},
   "outputs": [],
   "source": [
    "# remove rows with empty rating\n",
    "la_review_df = la_review_df[la_review_df['rating'].notnull()]\n",
    "# remove rows with empty text\n",
    "la_review_df = la_review_df[la_review_df['text'].notnull()]"
   ]
  },
  {
   "cell_type": "markdown",
   "metadata": {},
   "source": [
    "Check if any other columns have missing data"
   ]
  },
  {
   "cell_type": "code",
   "execution_count": 44,
   "metadata": {},
   "outputs": [
    {
     "data": {
      "text/plain": [
       "user_id          0\n",
       "name             0\n",
       "time             0\n",
       "rating           0\n",
       "text             0\n",
       "pics       2759425\n",
       "resp       2759425\n",
       "gmap_id          0\n",
       "dtype: int64"
      ]
     },
     "execution_count": 44,
     "metadata": {},
     "output_type": "execute_result"
    }
   ],
   "source": [
    "# check any other columns with missing values\n",
    "la_review_df.isnull().sum()"
   ]
  },
  {
   "cell_type": "markdown",
   "metadata": {},
   "source": [
    "Great! We don't need pics and resp anyways"
   ]
  },
  {
   "cell_type": "code",
   "execution_count": 45,
   "metadata": {},
   "outputs": [
    {
     "data": {
      "text/plain": [
       "2759425"
      ]
     },
     "execution_count": 45,
     "metadata": {},
     "output_type": "execute_result"
    }
   ],
   "source": [
    "len(la_review_df)"
   ]
  },
  {
   "cell_type": "code",
   "execution_count": 47,
   "metadata": {},
   "outputs": [],
   "source": [
    "la_review_df.to_csv('dataset/la_review.csv', index=False, sep='|', encoding='utf-8', escapechar='\\\\')"
   ]
  },
  {
   "cell_type": "markdown",
   "metadata": {},
   "source": [
    "Let's load in the two data again, and prepare to transform them to a huggingface dataset"
   ]
  },
  {
   "cell_type": "code",
   "execution_count": 59,
   "metadata": {},
   "outputs": [
    {
     "name": "stderr",
     "output_type": "stream",
     "text": [
      "/tmp/ipykernel_8523/1247241679.py:2: DtypeWarning: Columns (0,1,3,4,7) have mixed types. Specify dtype option on import or set low_memory=False.\n",
      "  la_review = pd.read_csv('dataset/la_review.csv', sep='|', encoding='utf-8', escapechar='\\\\')\n"
     ]
    }
   ],
   "source": [
    "la_metadata = pd.read_csv('dataset/la_metadata.csv')\n",
    "la_review = pd.read_csv('dataset/la_review.csv', sep='|', encoding='utf-8', escapechar='\\\\')"
   ]
  },
  {
   "cell_type": "code",
   "execution_count": 60,
   "metadata": {},
   "outputs": [
    {
     "data": {
      "text/plain": [
       "(Index(['name', 'address', 'gmap_id', 'description', 'latitude', 'longitude',\n",
       "        'category', 'avg_rating', 'num_of_reviews', 'price', 'hours', 'MISC',\n",
       "        'state', 'relative_results', 'url'],\n",
       "       dtype='object'),\n",
       " Index(['user_id', 'name', 'time', 'rating', 'text', 'pics', 'resp', 'gmap_id'], dtype='object'))"
      ]
     },
     "execution_count": 60,
     "metadata": {},
     "output_type": "execute_result"
    }
   ],
   "source": [
    "la_metadata.columns, la_review.columns"
   ]
  },
  {
   "cell_type": "code",
   "execution_count": 61,
   "metadata": {},
   "outputs": [
    {
     "data": {
      "text/plain": [
       "0          0x80c2c98c0e3c16fd:0x29ec8a728764fdf9\n",
       "1          0x80c2c98c0e3c16fd:0x29ec8a728764fdf9\n",
       "2          0x80c2c778e3b73d33:0xbdc58662a4a97d49\n",
       "3          0x80c2c778e3b73d33:0xbdc58662a4a97d49\n",
       "4          0x80c2c778e3b73d33:0xbdc58662a4a97d49\n",
       "                           ...                  \n",
       "2870506    0x80c2bfe2e6ba6721:0x9c0445d217b4938f\n",
       "2870507    0x80c2bfe2e6ba6721:0x9c0445d217b4938f\n",
       "2870508    0x80c2bfe2e6ba6721:0x9c0445d217b4938f\n",
       "2870509    0x80c2bfe2e6ba6721:0x9c0445d217b4938f\n",
       "2870510    0x80c2bfe2e6ba6721:0x9c0445d217b4938f\n",
       "Name: gmap_id, Length: 2870511, dtype: object"
      ]
     },
     "execution_count": 61,
     "metadata": {},
     "output_type": "execute_result"
    }
   ],
   "source": [
    "la_review['gmap_id']"
   ]
  },
  {
   "cell_type": "code",
   "execution_count": 62,
   "metadata": {},
   "outputs": [],
   "source": [
    "la_metadata.drop(columns=['name', 'address', 'description', 'MISC', 'state', 'relative_results', 'url', 'hours'], inplace=True)\n",
    "la_review.drop(columns=['user_id', 'name', 'time', 'pics', 'resp'], inplace=True)"
   ]
  },
  {
   "cell_type": "code",
   "execution_count": 63,
   "metadata": {},
   "outputs": [],
   "source": [
    "#use gmap_id as index\n",
    "la_metadata.set_index('gmap_id', inplace=True)\n",
    "la_review.set_index('gmap_id', inplace=True)"
   ]
  },
  {
   "cell_type": "code",
   "execution_count": 64,
   "metadata": {},
   "outputs": [],
   "source": [
    "# merge the two dataframes\n",
    "la_df = la_metadata.join(la_review, how='inner')"
   ]
  },
  {
   "cell_type": "code",
   "execution_count": 65,
   "metadata": {},
   "outputs": [],
   "source": [
    "la_df = la_df[la_df['text'].notnull()]\n",
    "la_df.reset_index(inplace=True)\n",
    "la_df.drop(columns=['gmap_id'], inplace=True)"
   ]
  },
  {
   "cell_type": "code",
   "execution_count": 66,
   "metadata": {},
   "outputs": [
    {
     "data": {
      "text/html": [
       "<div>\n",
       "<style scoped>\n",
       "    .dataframe tbody tr th:only-of-type {\n",
       "        vertical-align: middle;\n",
       "    }\n",
       "\n",
       "    .dataframe tbody tr th {\n",
       "        vertical-align: top;\n",
       "    }\n",
       "\n",
       "    .dataframe thead th {\n",
       "        text-align: right;\n",
       "    }\n",
       "</style>\n",
       "<table border=\"1\" class=\"dataframe\">\n",
       "  <thead>\n",
       "    <tr style=\"text-align: right;\">\n",
       "      <th></th>\n",
       "      <th>latitude</th>\n",
       "      <th>longitude</th>\n",
       "      <th>category</th>\n",
       "      <th>avg_rating</th>\n",
       "      <th>num_of_reviews</th>\n",
       "      <th>price</th>\n",
       "      <th>rating</th>\n",
       "      <th>text</th>\n",
       "    </tr>\n",
       "  </thead>\n",
       "  <tbody>\n",
       "    <tr>\n",
       "      <th>0</th>\n",
       "      <td>34.018891</td>\n",
       "      <td>-118.215290</td>\n",
       "      <td>['Textile exporter']</td>\n",
       "      <td>4.5</td>\n",
       "      <td>6</td>\n",
       "      <td>NaN</td>\n",
       "      <td>5.0</td>\n",
       "      <td>Great company. Amazing customer service and th...</td>\n",
       "    </tr>\n",
       "    <tr>\n",
       "      <th>1</th>\n",
       "      <td>34.018891</td>\n",
       "      <td>-118.215290</td>\n",
       "      <td>['Textile exporter']</td>\n",
       "      <td>4.5</td>\n",
       "      <td>6</td>\n",
       "      <td>NaN</td>\n",
       "      <td>5.0</td>\n",
       "      <td>Nice people\\nhelpful</td>\n",
       "    </tr>\n",
       "    <tr>\n",
       "      <th>2</th>\n",
       "      <td>34.018891</td>\n",
       "      <td>-118.215290</td>\n",
       "      <td>['Textile exporter']</td>\n",
       "      <td>4.5</td>\n",
       "      <td>6</td>\n",
       "      <td>NaN</td>\n",
       "      <td>5.0</td>\n",
       "      <td>Great company. Amazing customer service and th...</td>\n",
       "    </tr>\n",
       "    <tr>\n",
       "      <th>3</th>\n",
       "      <td>34.018891</td>\n",
       "      <td>-118.215290</td>\n",
       "      <td>['Textile exporter']</td>\n",
       "      <td>4.5</td>\n",
       "      <td>6</td>\n",
       "      <td>NaN</td>\n",
       "      <td>5.0</td>\n",
       "      <td>Nice people\\nhelpful</td>\n",
       "    </tr>\n",
       "    <tr>\n",
       "      <th>4</th>\n",
       "      <td>34.058092</td>\n",
       "      <td>-118.292130</td>\n",
       "      <td>['Korean restaurant']</td>\n",
       "      <td>4.4</td>\n",
       "      <td>18</td>\n",
       "      <td>NaN</td>\n",
       "      <td>5.0</td>\n",
       "      <td>One of the best Korean rice cake places in town</td>\n",
       "    </tr>\n",
       "    <tr>\n",
       "      <th>...</th>\n",
       "      <td>...</td>\n",
       "      <td>...</td>\n",
       "      <td>...</td>\n",
       "      <td>...</td>\n",
       "      <td>...</td>\n",
       "      <td>...</td>\n",
       "      <td>...</td>\n",
       "      <td>...</td>\n",
       "    </tr>\n",
       "    <tr>\n",
       "      <th>2765952</th>\n",
       "      <td>34.126945</td>\n",
       "      <td>-118.326105</td>\n",
       "      <td>['Park']</td>\n",
       "      <td>4.6</td>\n",
       "      <td>4417</td>\n",
       "      <td>NaN</td>\n",
       "      <td>5.0</td>\n",
       "      <td>(Translated by Google) I would like to see tha...</td>\n",
       "    </tr>\n",
       "    <tr>\n",
       "      <th>2765953</th>\n",
       "      <td>34.126945</td>\n",
       "      <td>-118.326105</td>\n",
       "      <td>['Park']</td>\n",
       "      <td>4.6</td>\n",
       "      <td>4417</td>\n",
       "      <td>NaN</td>\n",
       "      <td>4.0</td>\n",
       "      <td>(Translated by Google) I definitely recommend ...</td>\n",
       "    </tr>\n",
       "    <tr>\n",
       "      <th>2765954</th>\n",
       "      <td>34.126945</td>\n",
       "      <td>-118.326105</td>\n",
       "      <td>['Park']</td>\n",
       "      <td>4.6</td>\n",
       "      <td>4417</td>\n",
       "      <td>NaN</td>\n",
       "      <td>4.0</td>\n",
       "      <td>(Translated by Google) Well\\n\\n(Original)\\nBom</td>\n",
       "    </tr>\n",
       "    <tr>\n",
       "      <th>2765955</th>\n",
       "      <td>34.126945</td>\n",
       "      <td>-118.326105</td>\n",
       "      <td>['Park']</td>\n",
       "      <td>4.6</td>\n",
       "      <td>4417</td>\n",
       "      <td>NaN</td>\n",
       "      <td>5.0</td>\n",
       "      <td>(Translated by Google) The best place to see t...</td>\n",
       "    </tr>\n",
       "    <tr>\n",
       "      <th>2765956</th>\n",
       "      <td>34.126945</td>\n",
       "      <td>-118.326105</td>\n",
       "      <td>['Park']</td>\n",
       "      <td>4.6</td>\n",
       "      <td>4417</td>\n",
       "      <td>NaN</td>\n",
       "      <td>1.0</td>\n",
       "      <td>(Translated by Google) Roberta\\n\\n(Original)\\n...</td>\n",
       "    </tr>\n",
       "  </tbody>\n",
       "</table>\n",
       "<p>2765957 rows × 8 columns</p>\n",
       "</div>"
      ],
      "text/plain": [
       "          latitude   longitude               category  avg_rating  \\\n",
       "0        34.018891 -118.215290   ['Textile exporter']         4.5   \n",
       "1        34.018891 -118.215290   ['Textile exporter']         4.5   \n",
       "2        34.018891 -118.215290   ['Textile exporter']         4.5   \n",
       "3        34.018891 -118.215290   ['Textile exporter']         4.5   \n",
       "4        34.058092 -118.292130  ['Korean restaurant']         4.4   \n",
       "...            ...         ...                    ...         ...   \n",
       "2765952  34.126945 -118.326105               ['Park']         4.6   \n",
       "2765953  34.126945 -118.326105               ['Park']         4.6   \n",
       "2765954  34.126945 -118.326105               ['Park']         4.6   \n",
       "2765955  34.126945 -118.326105               ['Park']         4.6   \n",
       "2765956  34.126945 -118.326105               ['Park']         4.6   \n",
       "\n",
       "         num_of_reviews price rating  \\\n",
       "0                     6   NaN    5.0   \n",
       "1                     6   NaN    5.0   \n",
       "2                     6   NaN    5.0   \n",
       "3                     6   NaN    5.0   \n",
       "4                    18   NaN    5.0   \n",
       "...                 ...   ...    ...   \n",
       "2765952            4417   NaN    5.0   \n",
       "2765953            4417   NaN    4.0   \n",
       "2765954            4417   NaN    4.0   \n",
       "2765955            4417   NaN    5.0   \n",
       "2765956            4417   NaN    1.0   \n",
       "\n",
       "                                                      text  \n",
       "0        Great company. Amazing customer service and th...  \n",
       "1                                     Nice people\\nhelpful  \n",
       "2        Great company. Amazing customer service and th...  \n",
       "3                                     Nice people\\nhelpful  \n",
       "4          One of the best Korean rice cake places in town  \n",
       "...                                                    ...  \n",
       "2765952  (Translated by Google) I would like to see tha...  \n",
       "2765953  (Translated by Google) I definitely recommend ...  \n",
       "2765954     (Translated by Google) Well\\n\\n(Original)\\nBom  \n",
       "2765955  (Translated by Google) The best place to see t...  \n",
       "2765956  (Translated by Google) Roberta\\n\\n(Original)\\n...  \n",
       "\n",
       "[2765957 rows x 8 columns]"
      ]
     },
     "execution_count": 66,
     "metadata": {},
     "output_type": "execute_result"
    }
   ],
   "source": [
    "la_df"
   ]
  },
  {
   "cell_type": "code",
   "execution_count": 67,
   "metadata": {},
   "outputs": [],
   "source": [
    "la_df.to_csv('dataset/la_df.csv', index=False, sep='|', encoding='utf-8', escapechar='\\\\')"
   ]
  },
  {
   "cell_type": "markdown",
   "metadata": {},
   "source": [
    "Analyzing 2.8 million reviews is definitely way too much for my computer to handle. So let's only choose 3000 restuarnts to analyze."
   ]
  },
  {
   "cell_type": "code",
   "execution_count": 70,
   "metadata": {},
   "outputs": [],
   "source": [
    "la_metadata_mini = la_metadata.sample(3000)\n",
    "la_review_mini = la_review[la_review.index.isin(la_metadata_mini.index)]"
   ]
  },
  {
   "cell_type": "code",
   "execution_count": 71,
   "metadata": {},
   "outputs": [
    {
     "data": {
      "text/plain": [
       "263499"
      ]
     },
     "execution_count": 71,
     "metadata": {},
     "output_type": "execute_result"
    }
   ],
   "source": [
    "len(la_review_mini)"
   ]
  },
  {
   "cell_type": "markdown",
   "metadata": {},
   "source": [
    "263k reviews is still a lot, but we should be able to analyze it"
   ]
  },
  {
   "cell_type": "code",
   "execution_count": 77,
   "metadata": {},
   "outputs": [],
   "source": [
    "la_mini_df = la_metadata_mini.join(la_review_mini, how='inner')\n",
    "\n",
    "la_mini_df.to_csv('dataset/la_mini_df.csv', index=False, sep='|', encoding='utf-8', escapechar='\\\\')"
   ]
  }
 ],
 "metadata": {
  "kernelspec": {
   "display_name": "env",
   "language": "python",
   "name": "python3"
  },
  "language_info": {
   "codemirror_mode": {
    "name": "ipython",
    "version": 3
   },
   "file_extension": ".py",
   "mimetype": "text/x-python",
   "name": "python",
   "nbconvert_exporter": "python",
   "pygments_lexer": "ipython3",
   "version": "3.10.12"
  }
 },
 "nbformat": 4,
 "nbformat_minor": 2
}
