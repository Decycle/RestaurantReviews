{
 "cells": [
  {
   "cell_type": "markdown",
   "metadata": {},
   "source": [
    "# LLM Decoder Inference of the Restaurant Reviews"
   ]
  },
  {
   "cell_type": "markdown",
   "metadata": {},
   "source": [
    "## Download the necessary packages\n",
    "Recommend using Linux or WSL for Windows.\n",
    "A good Nvidia GPU (rtx-30xx/40xx) is required for reasonable speed."
   ]
  },
  {
   "cell_type": "code",
   "execution_count": 1,
   "metadata": {},
   "outputs": [
    {
     "name": "stdout",
     "output_type": "stream",
     "text": [
      "Thu May 16 00:33:50 2024       \n",
      "+---------------------------------------------------------------------------------------+\n",
      "| NVIDIA-SMI 535.104.12             Driver Version: 535.104.12   CUDA Version: 12.2     |\n",
      "|-----------------------------------------+----------------------+----------------------+\n",
      "| GPU  Name                 Persistence-M | Bus-Id        Disp.A | Volatile Uncorr. ECC |\n",
      "| Fan  Temp   Perf          Pwr:Usage/Cap |         Memory-Usage | GPU-Util  Compute M. |\n",
      "|                                         |                      |               MIG M. |\n",
      "|=========================================+======================+======================|\n",
      "|   0  NVIDIA RTX A6000               On  | 00000000:04:00.0 Off |                  Off |\n",
      "| 30%   30C    P8              25W / 300W |      2MiB / 49140MiB |      0%      Default |\n",
      "|                                         |                      |                  N/A |\n",
      "+-----------------------------------------+----------------------+----------------------+\n",
      "                                                                                         \n",
      "+---------------------------------------------------------------------------------------+\n",
      "| Processes:                                                                            |\n",
      "|  GPU   GI   CI        PID   Type   Process name                            GPU Memory |\n",
      "|        ID   ID                                                             Usage      |\n",
      "|=======================================================================================|\n",
      "|  No running processes found                                                           |\n",
      "+---------------------------------------------------------------------------------------+\n"
     ]
    }
   ],
   "source": [
    "!nvidia-smi"
   ]
  },
  {
   "cell_type": "markdown",
   "metadata": {},
   "source": [
    "The following install the required package for cuda 12.1 in Linux, for the newer RTX 30xx GPUs or higher "
   ]
  },
  {
   "cell_type": "code",
   "execution_count": null,
   "metadata": {},
   "outputs": [],
   "source": [
    "!python -m pip install --upgrade pip\n",
    "!python -m pip install --upgrade --force-reinstall --no-cache-dir torch==2.2.0 triton \\\n",
    "  --index-url https://download.pytorch.org/whl/cu121\n",
    "!python -m pip install \"unsloth[cu121-ampere-torch220] @ git+https://github.com/unslothai/unsloth.git\""
   ]
  },
  {
   "cell_type": "markdown",
   "metadata": {},
   "source": [
    "If installed without failure, starts by downloading the model we are gonna use."
   ]
  },
  {
   "cell_type": "code",
   "execution_count": 2,
   "metadata": {},
   "outputs": [
    {
     "name": "stderr",
     "output_type": "stream",
     "text": [
      "/workspace/dpo/env/lib/python3.10/site-packages/tqdm/auto.py:21: TqdmWarning: IProgress not found. Please update jupyter and ipywidgets. See https://ipywidgets.readthedocs.io/en/stable/user_install.html\n",
      "  from .autonotebook import tqdm as notebook_tqdm\n",
      "/workspace/dpo/env/lib/python3.10/site-packages/huggingface_hub/file_download.py:1132: FutureWarning: `resume_download` is deprecated and will be removed in version 1.0.0. Downloads always resume when possible. If you want to force a new download, use `force_download=True`.\n",
      "  warnings.warn(\n"
     ]
    },
    {
     "name": "stdout",
     "output_type": "stream",
     "text": [
      "==((====))==  Unsloth: Fast Llama patching release 2024.4\n",
      "   \\\\   /|    GPU: NVIDIA RTX A6000. Max memory: 47.536 GB. Platform = Linux.\n",
      "O^O/ \\_/ \\    Pytorch: 2.2.0+cu121. CUDA = 8.6. CUDA Toolkit = 12.1.\n",
      "\\        /    Bfloat16 = TRUE. Xformers = 0.0.24. FA = True.\n",
      " \"-____-\"     Free Apache license: http://github.com/unslothai/unsloth\n"
     ]
    },
    {
     "name": "stderr",
     "output_type": "stream",
     "text": [
      "Unused kwargs: ['_load_in_4bit', '_load_in_8bit', 'quant_method']. These kwargs are not used in <class 'transformers.utils.quantization_config.BitsAndBytesConfig'>.\n",
      "Special tokens have been added in the vocabulary, make sure the associated word embeddings are fine-tuned or trained.\n",
      "Special tokens have been added in the vocabulary, make sure the associated word embeddings are fine-tuned or trained.\n"
     ]
    }
   ],
   "source": [
    "from unsloth import FastLanguageModel\n",
    "\n",
    "model, tokenizer = FastLanguageModel.from_pretrained(\n",
    "    model_name=\"unsloth/llama-3-8b-Instruct-bnb-4bit\",\n",
    "    dtype=None,        # None for auto detect\n",
    "    load_in_4bit=True,\n",
    ") # about 6GB in size"
   ]
  },
  {
   "cell_type": "markdown",
   "metadata": {},
   "source": [
    "## Acquire Dataset\n",
    "\n",
    "We will be using the yelp dataset for experimenting"
   ]
  },
  {
   "cell_type": "code",
   "execution_count": 1,
   "metadata": {},
   "outputs": [],
   "source": [
    "DATASET_SIZE = 9600"
   ]
  },
  {
   "cell_type": "code",
   "execution_count": 2,
   "metadata": {},
   "outputs": [
    {
     "name": "stderr",
     "output_type": "stream",
     "text": [
      "/home/decycle/.local/lib/python3.10/site-packages/tqdm/auto.py:21: TqdmWarning: IProgress not found. Please update jupyter and ipywidgets. See https://ipywidgets.readthedocs.io/en/stable/user_install.html\n",
      "  from .autonotebook import tqdm as notebook_tqdm\n",
      "Downloading readme: 100%|██████████| 808/808 [00:00<00:00, 1.19MB/s]\n"
     ]
    },
    {
     "name": "stdout",
     "output_type": "stream",
     "text": [
      "Downloading and preparing dataset None/None to /home/decycle/.cache/huggingface/datasets/mrcaelumn___parquet/mrcaelumn--yelp_restaurant_review_labelled-0e33731f04cb7c71/0.0.0/14a00e99c0d15a23649d0db8944380ac81082d4b021f398733dd84f3a6c569a7...\n"
     ]
    },
    {
     "name": "stderr",
     "output_type": "stream",
     "text": [
      "Downloading data: 100%|██████████| 181M/181M [00:04<00:00, 40.1MB/s]\n",
      "Downloading data files: 100%|██████████| 1/1 [00:06<00:00,  6.44s/it]\n",
      "Extracting data files: 100%|██████████| 1/1 [00:00<00:00, 1366.67it/s]\n",
      "                                                                                          \r"
     ]
    },
    {
     "name": "stdout",
     "output_type": "stream",
     "text": [
      "Dataset parquet downloaded and prepared to /home/decycle/.cache/huggingface/datasets/mrcaelumn___parquet/mrcaelumn--yelp_restaurant_review_labelled-0e33731f04cb7c71/0.0.0/14a00e99c0d15a23649d0db8944380ac81082d4b021f398733dd84f3a6c569a7. Subsequent calls will reuse this data.\n"
     ]
    }
   ],
   "source": [
    "# Sample Dataset for Testing\n",
    "from datasets import load_dataset, VerificationMode\n",
    "\n",
    "dataset = load_dataset(\"mrcaelumn/yelp_restaurant_review_labelled\", data_files={'test':'data/test-00000-of-00002-9007d2596358349d.parquet'}, split=f'test[:{DATASET_SIZE}]', verification_mode=VerificationMode.NO_CHECKS)\n",
    "dataset.set_format(type=\"torch\")"
   ]
  },
  {
   "cell_type": "markdown",
   "metadata": {},
   "source": [
    "## Preprocesssing\n",
    "\n",
    "Now let's set up the function to format the prompt according to LLama 3's specication, as well as tokenizing it."
   ]
  },
  {
   "cell_type": "code",
   "execution_count": 5,
   "metadata": {},
   "outputs": [
    {
     "name": "stderr",
     "output_type": "stream",
     "text": [
      "Map: 100%|██████████| 9600/9600 [00:04<00:00, 1956.63 examples/s]\n"
     ]
    }
   ],
   "source": [
    "import torch\n",
    "\n",
    "categories = [\"FOOD\", \"LOCATION\", \"ATOMSPHERE\", \"SERVICE\", \"PRICE\", \"MENU\", \"SPEED\"]\n",
    "\n",
    "def format_prompt(category, review):\n",
    "    # review = 'The waitress is nice and the food is the best thing i have ever had, it is so good! However, the atomsphere sucks and i hate how loud it is.'\n",
    "\n",
    "    messages = [\n",
    "        {\"role\": \"system\", \"content\": \"You are a helpful assistant\"},\n",
    "        {\"role\": \"user\", \"content\": f'Rate the following restaurant review in the category of {category} from 1 to 5 where 1 means the worst possible and 5 means the best in their life. Only rate how good the {category} is. Do not pay attention to other factors. If the category {category} is not mentioned in the review, output \"NOT MENTIONED\" instead. Review: \"{review}\" '},\n",
    "        {\"role\": \"assistant\", \"content\": f\"The rating of {category} is: \"}\n",
    "    ]\n",
    "    # The apply_chat_template auto inserts a [eot_id] token at the end, which we will discard.\n",
    "    prompt = tokenizer.apply_chat_template(\n",
    "        messages,\n",
    "        tokenize=False,\n",
    "    )[:-10]\n",
    "    return prompt\n",
    "\n",
    "def preprocess(batch):\n",
    "    reviews = batch['text']\n",
    "    results = {}\n",
    "    for category in categories:\n",
    "        prompts = []\n",
    "        for review in reviews:\n",
    "            prompts.append(format_prompt(category, review))\n",
    "\n",
    "        results[category] = prompts\n",
    "    return results\n",
    "\n",
    "dataset = dataset.map(preprocess, batched=True, batch_size=256)"
   ]
  },
  {
   "cell_type": "markdown",
   "metadata": {},
   "source": [
    "Let's checkout the length distrbution of the review:"
   ]
  },
  {
   "cell_type": "code",
   "execution_count": 6,
   "metadata": {},
   "outputs": [
    {
     "data": {
      "image/png": "[encoded data removed]",
      "text/plain": [
       "<Figure size 640x480 with 1 Axes>"
      ]
     },
     "metadata": {},
     "output_type": "display_data"
    }
   ],
   "source": [
    "from matplotlib import pyplot as plt\n",
    "tokens = tokenizer(\n",
    "    dataset['ATOMSPHERE'],\n",
    "    return_tensors=\"pt\",\n",
    "    padding=True\n",
    ")\n",
    "\n",
    "input_ids = tokens.input_ids\n",
    "attention_mask = tokens.attention_mask\n",
    "\n",
    "token_lengths = torch.sum(attention_mask, dim=-1)\n",
    "\n",
    "# Plot the distribution of token lengths\n",
    "plt.hist(token_lengths, bins=120)\n",
    "plt.show()"
   ]
  },
  {
   "cell_type": "code",
   "execution_count": 7,
   "metadata": {},
   "outputs": [
    {
     "name": "stdout",
     "output_type": "stream",
     "text": [
      "Mean: 234.10604858398438\n",
      "Std: 116.28524017333984\n",
      "95th percentile: 447.0498046875\n"
     ]
    }
   ],
   "source": [
    "token_lengths = token_lengths.to(torch.float32)\n",
    "\n",
    "print(f\"Mean: {torch.mean(token_lengths).item()}\")\n",
    "print(f\"Std: {torch.std(token_lengths).item()}\")\n",
    "print(f\"95th percentile: {torch.quantile(token_lengths, 0.95).item()}\")"
   ]
  },
  {
   "cell_type": "markdown",
   "metadata": {},
   "source": [
    "From the histogram, we can see that 95% review has length of less than 424. We will use that as the max length."
   ]
  },
  {
   "cell_type": "code",
   "execution_count": 8,
   "metadata": {},
   "outputs": [],
   "source": [
    "MAX_LENGTH = 424\n",
    "BATCH_SIZE = 32\n",
    "\n",
    "num_batch = DATASET_SIZE // BATCH_SIZE"
   ]
  },
  {
   "cell_type": "markdown",
   "metadata": {},
   "source": [
    "Let's batch up the data and send it to GPU before the actual inteference. This should hopefully speed things up because there is now less cpu to gpu communication."
   ]
  },
  {
   "cell_type": "code",
   "execution_count": 9,
   "metadata": {},
   "outputs": [],
   "source": [
    "batched_input_ids = {}\n",
    "batched_attention_masks = {}\n",
    "\n",
    "for category in categories:\n",
    "    tokens = tokenizer(\n",
    "        dataset[category],\n",
    "        return_tensors=\"pt\",\n",
    "        padding='max_length',\n",
    "        truncation=True,\n",
    "        max_length=MAX_LENGTH\n",
    "    )\n",
    "\n",
    "    input_ids = tokens.input_ids.to(model.device)\n",
    "    attention_mask = tokens.attention_mask.to(model.device)\n",
    "\n",
    "    input_ids = input_ids.reshape(-1, BATCH_SIZE, MAX_LENGTH)\n",
    "    attention_mask = attention_mask.reshape(-1, BATCH_SIZE, MAX_LENGTH)\n",
    "\n",
    "    batched_input_ids[category] = input_ids\n",
    "    batched_attention_masks[category] = attention_mask"
   ]
  },
  {
   "cell_type": "markdown",
   "metadata": {},
   "source": [
    "## Inference\n",
    "\n",
    "We will use the probability output of the model for the last token.\n",
    "\n",
    "We will record the logits for each of the rating number, as well as the probability of the model saying \"NOT\".\n",
    "\n",
    "Let the logits for rating number $i$ be $l_i$, the score can be cacluated as\n",
    "\n",
    "$$s = \\frac{\\sum_{i=1}^5 i \\exp(l_i)}{\\sum_{i=1}^5 \\exp(l_i)}$$\n",
    "for that category.\n",
    "\n",
    "If the probablity of the model saying \"NOT\" is very high, that means the model thinks the category is not mentioned in the review. In that case we should discard the rating.\n",
    "\n",
    "In particular, denote the logits for predicting NOT as $l_n$, we can extract a \"usefulness\" parameter $u$\n",
    "\n",
    "$$u = \\frac{\\sum_{i=1}^5 \\exp(l_i)}{exp(l_n) + \\sum_{i=1}^5 \\exp(l_i)}$$"
   ]
  },
  {
   "cell_type": "code",
   "execution_count": 10,
   "metadata": {},
   "outputs": [
    {
     "name": "stderr",
     "output_type": "stream",
     "text": [
      "100%|██████████| 300/300 [09:52<00:00,  1.98s/it]\n",
      "100%|██████████| 300/300 [09:53<00:00,  1.98s/it]\n",
      "100%|██████████| 300/300 [09:53<00:00,  1.98s/it]\n",
      "100%|██████████| 300/300 [09:53<00:00,  1.98s/it]\n",
      "100%|██████████| 300/300 [09:53<00:00,  1.98s/it]\n",
      "100%|██████████| 300/300 [09:53<00:00,  1.98s/it]\n",
      "100%|██████████| 300/300 [09:53<00:00,  1.98s/it]\n"
     ]
    }
   ],
   "source": [
    "from tqdm import trange # progress bar\n",
    "\n",
    "# llama 3 stores digit id as 15 + that digit\n",
    "numbers = torch.tensor([1,2,3,4,5]).to(model.device)\n",
    "indices = numbers + 15\n",
    "\n",
    "# the id for the word \"NOT\" is 14394\n",
    "# If the model has a high probability of predicting this word, it means the review score is not going to be useful\n",
    "not_id = 14394\n",
    "\n",
    "review_scores = torch.zeros(len(categories), len(dataset))\n",
    "review_usefulness= torch.zeros(len(categories), len(dataset))\n",
    "\n",
    "def tokenize(prmopts):\n",
    "    inputs = tokenizer(\n",
    "        prmopts,\n",
    "        max_length=MAX_LENGTH,\n",
    "        truncation=True,\n",
    "        padding=\"max_length\",\n",
    "        return_tensors=\"pt\",\n",
    "    )\n",
    "    return inputs\n",
    "\n",
    "with torch.no_grad():\n",
    "    for i, category in enumerate(categories):\n",
    "        for j in trange(num_batch):\n",
    "            input_ids = batched_input_ids[category][j]\n",
    "            attention_mask = batched_attention_masks[category][j]\n",
    "            # get the logits for the 5 number we are interested in\n",
    "            logits = model(\n",
    "                input_ids=input_ids,\n",
    "                attention_mask=attention_mask,\n",
    "                output_hidden_states=False,\n",
    "                use_cache=False\n",
    "                ).logits[:, -1]\n",
    "\n",
    "            number_logits = logits[:, indices]\n",
    "            exp_logits = torch.exp(number_logits)\n",
    "            exp_logits_sum = torch.sum(exp_logits, dim=1)\n",
    "\n",
    "            not_logits = logits[:, not_id]\n",
    "            exp_not_logits = torch.exp(not_logits)\n",
    "\n",
    "            review_usefulness[i, j*BATCH_SIZE:(j+1)*BATCH_SIZE] = exp_logits_sum / (exp_not_logits + exp_logits_sum)\n",
    "\n",
    "            scores = torch.sum(exp_logits * numbers, dim=1) / exp_logits_sum\n",
    "            review_scores[i, j*BATCH_SIZE:(j+1)*BATCH_SIZE] = scores"
   ]
  },
  {
   "cell_type": "markdown",
   "metadata": {},
   "source": [
    "## Analyze\n",
    "\n",
    "Let's plot the review usefulness to see just how much review can we consider as useful."
   ]
  },
  {
   "cell_type": "code",
   "execution_count": 11,
   "metadata": {},
   "outputs": [
    {
     "data": {
      "text/plain": [
       "[]"
      ]
     },
     "execution_count": 11,
     "metadata": {},
     "output_type": "execute_result"
    },
    {
     "data": {
      "image/png": "[encoded data removed]",
      "text/plain": [
       "<Figure size 640x480 with 1 Axes>"
      ]
     },
     "metadata": {},
     "output_type": "display_data"
    }
   ],
   "source": [
    "usefulness = review_usefulness[:, ].flatten().cpu().numpy()\n",
    "\n",
    "plt.hist(usefulness, bins=20)\n",
    "plt.plot()"
   ]
  },
  {
   "cell_type": "markdown",
   "metadata": {},
   "source": [
    "Sadly the model thinks that 2/3 of the reviews is not helpful. This is to be expected because a normal review won't cover all the categories.\n",
    "\n",
    "Let's choose a usefulness threshold of 0.5 for the mask."
   ]
  },
  {
   "cell_type": "code",
   "execution_count": 54,
   "metadata": {},
   "outputs": [
    {
     "name": "stdout",
     "output_type": "stream",
     "text": [
      "Useful Review: 33.48%\n"
     ]
    }
   ],
   "source": [
    "review_mask = review_usefulness > 0.7\n",
    "\n",
    "print(f\"Useful Review: {torch.sum(review_mask).item() / review_mask.numel() * 100:.2f}%\")"
   ]
  },
  {
   "cell_type": "markdown",
   "metadata": {},
   "source": [
    "Let's save the review_mask and review_scores just in case"
   ]
  },
  {
   "cell_type": "code",
   "execution_count": 61,
   "metadata": {},
   "outputs": [],
   "source": [
    "import numpy as np\n",
    "\n",
    "np.save(\"usefulness.npy\", review_usefulness.cpu().numpy())\n",
    "np.save(\"scores.npy\", review_scores.cpu().numpy()) # Good thing that we didn't shuffle the dataset!"
   ]
  },
  {
   "cell_type": "code",
   "execution_count": 55,
   "metadata": {},
   "outputs": [
    {
     "name": "stdout",
     "output_type": "stream",
     "text": [
      "FOOD: 2998 out of 9600 reviews are ignored\n",
      "LOCATION: 7515 out of 9600 reviews are ignored\n",
      "ATOMSPHERE: 5997 out of 9600 reviews are ignored\n",
      "SERVICE: 3779 out of 9600 reviews are ignored\n",
      "PRICE: 7586 out of 9600 reviews are ignored\n",
      "MENU: 6255 out of 9600 reviews are ignored\n",
      "SPEED: 7607 out of 9600 reviews are ignored\n"
     ]
    },
    {
     "data": {
      "image/png": "[encoded data removed]",
      "text/plain": [
       "<Figure size 640x480 with 1 Axes>"
      ]
     },
     "metadata": {},
     "output_type": "display_data"
    }
   ],
   "source": [
    "review_mask = review_usefulness > 0.5\n",
    "\n",
    "# let's see how much responses we are ignoring\n",
    "for i, category in enumerate(categories):\n",
    "    print(f\"{category}: {num_batch*BATCH_SIZE - torch.sum(review_mask[i]).item()} out of {num_batch*BATCH_SIZE} reviews are ignored\")\n",
    "\n",
    "# let's also see how much useful category does each review have\n",
    "useful_reviews = torch.sum(review_mask[:, :num_batch*BATCH_SIZE], dim=0)\n",
    "plt.hist(useful_reviews, bins=len(categories), width=0.7)\n",
    "plt.title(\"Number of Useful Categories per Review\")\n",
    "plt.show()"
   ]
  },
  {
   "cell_type": "markdown",
   "metadata": {},
   "source": [
    "Let's insepct somes reviews that are relevant to the location. Just to make sure they are correct."
   ]
  },
  {
   "cell_type": "code",
   "execution_count": 56,
   "metadata": {},
   "outputs": [
    {
     "name": "stdout",
     "output_type": "stream",
     "text": [
      "Ate here during my stay in French Quarters. Loved it. It was literally the first thing I a right off the plane because of its\n",
      "Proximity to the hotel. Whoever suggested to eat there during the day was absolutely right. Because it's right on Bourbon St, it gets busy and the line is well over a 20 minute wait. We were able to walk right in. Even if it's a line, the staff works with all different party sizes to get you in and eating as soon as possible. The staff are real locals and that made me comfortable. Not sure how that's a bad thing. Again this is a comfort restaurant. Food was a bit pricey but certainly worth it. Hands down...best Oysters you'll find out here.\n",
      "Came in from Texas for vacation. Wanted something genuine to Tennessee and this place was recommended in passing. Parking situation was not great but that seems to be a problem all around town. Waited in line for 25-30 min but really wanted to try this place. Food was worth it! The chicken itself was delicious and I'm not even a huge fried chicken fan, I got the red skinned potato salad, baked beans and mild chicken and it was delicious. My boyfriend tried the pimento mac and cheese (he said it tasted like regular mac and cheese) and southern greens with mild chicken loved it all. Overall it was a fun atmosphere and delicious food. The people working here were very nice too. Happy Texans!\n",
      "I went here during happy hour for a couple drinks with my friends. I like the decor and the set up and the fact it is pretty close to my house. It is a good environment for a good conversation and catching up with a friend during happy hour. I would love to see what this place is like at night!\n",
      "Great little hidden gem in Soulard! Thanks to Yelp for helping us find it when I was looking for a place for us to eat lunch before the Cardinals game. Menu has a nice variety, service was great, and although it was pretty empty when we were there, the atmosphere was inviting! \n",
      "\n",
      "We started with the toasted ravioli which was nothing special bit still good. For our meals we both had the Benton Park, mine with Caesar salad and my husband with potato salad. Yummy! \n",
      "\n",
      "While we didn't drink the cocktails they offered sounded great also.\n",
      "Awesome homemade ice cream!! Great selection of flavors, preparations, and at decent prices. Tucked into Wayne and a great place to bring the family. Parking is not bad, just be watchful for the long lines. \n",
      "\n",
      "We came here after a disappointing dinner somewhere at A place to never be mentioned again, in Wayne.  As we rolled-up, were a little daunted by the long line, but knew this place was going to be good because of the line. We gazed at the menu and were amazed by the shear number of flavors and selections of preparations for ice cream and frozen yogurt. I tired a couple flavors like chocolate cake batter and buckeye which were delicious. My friend enjoyed the graham central station. The servers were cool and patient. They also placed the ice cream in the cones properly with large to small scoops. I was pleased that the seemed knowledgable at flavors, taste, textures, and placement. \n",
      "\n",
      "If your in Wayne and you like ice cream, come here. One of the best places to go for ice cream!!\n",
      "I went to the Red Lobster in Levittown for the first time since I don't like the one on the Blvd which is the closest location near my home and the location I normally go to near my job was too far. Well I was very pleased! My server Stephanie P. was awesome! Everyone was very nice, the food was delicious and my extremely large(not complaining) piña colada was perfectly made. I had the pick two: Walt's shrimp & the coconut shrimp and I had no complaints. I will most definitely be back! This is my new favorite location!\n",
      "We were at the Franklin Institute and starting chatting with a couple who had kids that were playing on the science stuff with our kid.  Turns out the husband is Israeli and a caterer.  He said to me \"If you can, make sure to go to Mama's... I'm Israeli and I make food for a living, so I'm not easily impressed... it's the best in the world!\"  Um, okay... you don't have to tell me twice!  So as soon as we finished at the museum, we walked a few blocks down to Mama's.  It was the Sunday of Memorial Day weekend (2014) and NOTHING around it was open... just Mama's... it was 1:30pm and it was BUSY!  Everyone working there was nice, friendly, offered samples, patient... awesome!  I had a large pita filled with falafel and eggplant with a little of the spicy sauce. So fresh!  So good!  My meat-eater husband LOVED it!  The fries were made to order... hot, fresh-cut, and perfect.  I seriously cannot recommend this enough!  Yes, it's cash only... and there are a billion banks and ATMs everywhere in Philadelphia.  Grab some cash, get in line, and thank me later.  You're welcome.\n",
      "Great breakfast/lunch spot with so many different menu options! You have to sit out back on the patio if at all possible.. it's so cute and eclectic, not to mention dog friendly as well! I brought my pup here and everyone was so nice to him. Our waitress brought him a water bowl and milk Bones. They have a doggie menu too! My pup has a sensitive stomach so didn't order anything off of it.. maybe next time! I had the Mediterranean Veggie Wrap which was filled with chickpeas, cucumbers, olives, feta, lettuce, hummus,and tortilla strips.. delicious! My mom had the Tuna Salad Sandwich which was so fresh and tasty.  They both came with crinkle cut potato chips with the option to substitute them for sweet potato fries with an up charge. I definitely want to come back and try out their breakfast next time and highly recommend.\n",
      "Wondering if things have changed since some of the older reviews with lower ratings, or we just had a terrific experience.\n",
      "\n",
      "Whatever the case, a group of us (4) recently dropped in for dinner here on a Saturday, around 7:30, no reservation, just grabbed one of the outdoor tables to enjoy the perfect weather ... and were rewarded with a nearly perfect meal.\n",
      "\n",
      "Service was good. Sangria (red) was very good. And the tapas we had all disappeared quickly. I don't recall every dish, and it probably doesn't matter anyway because you'll like whatever you like, but standouts for us included the octopus, chorizo, clams, and bean salad -- not all in the same dish, of course. \n",
      "\n",
      "Plenty of dining choices in that area, but we'd go back there in a minute and would certainly recommend it if you're a tapas fan like we are.\n",
      "To call me a regular here would be like suggesting that I'm here less than the majority of the staff, which is hardly the case.\n",
      "\n",
      "The Orange Couch is veritably my office. I average at least 20 to 30 hours a week there in it's sleek minimal whiteness, tucked behind my laptop for meetings, work, and socializing.\n",
      "\n",
      "It is definitely out of sorts from nearly any other coffee shop in New Orleans, it would fit more aptly in San Francisco or NYC, but that makes it a welcome respite from the majority of dingy, shoddy coffee cafes throughout the rest of the Crescent.\n",
      "\n",
      "Coffee is some of the best in the city, although not up to par with say Stumptown in Portland, Vivace in Seattle, or Cafe Grumpy in NYC, but for New Orleans there is little better. That and I've yet to have chai in any coffee shop anywhere that rivals it's homemade gingery-star anise-lemongrass goodness.\n",
      "\n",
      "Rather than having the dull affair of common pastries, it mixes it up with mochi ice cream, quiches, mochi cake, and vietnamese food (only on fridays) to sate your appetite.\n"
     ]
    }
   ],
   "source": [
    "location_id = categories.index(\"LOCATION\")\n",
    "index = torch.nonzero(review_mask[location_id] == True)\n",
    "\n",
    "# let's see some of the reviews that are useful for location\n",
    "for i in range(10):\n",
    "    print(dataset['text'][index[i].item()])"
   ]
  },
  {
   "cell_type": "markdown",
   "metadata": {},
   "source": [
    "Most of these reviews have mentioned something about the location, which means the model behaves as expected."
   ]
  },
  {
   "cell_type": "code",
   "execution_count": 57,
   "metadata": {},
   "outputs": [
    {
     "data": {
      "text/plain": [
       "torch.Size([9600])"
      ]
     },
     "execution_count": 57,
     "metadata": {},
     "output_type": "execute_result"
    }
   ],
   "source": [
    "actual_scores = dataset['label']\n",
    "\n",
    "actual_scores.shape"
   ]
  },
  {
   "cell_type": "code",
   "execution_count": 58,
   "metadata": {},
   "outputs": [
    {
     "data": {
      "text/plain": [
       "(torch.Size([7, 9600]), torch.Size([7, 9600]))"
      ]
     },
     "execution_count": 58,
     "metadata": {},
     "output_type": "execute_result"
    }
   ],
   "source": [
    "review_scores.shape, review_mask.shape"
   ]
  },
  {
   "cell_type": "markdown",
   "metadata": {},
   "source": [
    "For each category, let's calculate the spearmanr and pearsonr corrleation to see how relevant they are. We will only consider the reviews that is useful to that category."
   ]
  },
  {
   "cell_type": "code",
   "execution_count": 59,
   "metadata": {},
   "outputs": [
    {
     "data": {
      "image/png": "[encoded data removed]",
      "text/plain": [
       "<Figure size 1200x600 with 1 Axes>"
      ]
     },
     "metadata": {},
     "output_type": "display_data"
    }
   ],
   "source": [
    "# spearsman and pearson correlation\n",
    "from scipy.stats import spearmanr, pearsonr\n",
    "\n",
    "spearmans = []\n",
    "pearsons = []\n",
    "for i, category in enumerate(categories):\n",
    "    mask = review_mask[i]\n",
    "    predicated_scores = review_scores[i][mask].cpu()\n",
    "    real_scores = actual_scores[mask]\n",
    "    spearman = spearmanr(predicated_scores, real_scores.cpu())\n",
    "    pearson = pearsonr(predicated_scores, real_scores.cpu())\n",
    "    spearmans.append(spearman)\n",
    "    pearsons.append(pearson)\n",
    "\n",
    "fig = plt.figure(figsize=(12, 6))\n",
    "\n",
    "plt.bar(categories, [pearson[0] for pearson in pearsons], label='Pearson')\n",
    "plt.bar(categories, [spearman.correlation for spearman in spearmans], label='Spearman')\n",
    "\n",
    "plt.legend()\n",
    "plt.show()"
   ]
  },
  {
   "cell_type": "code",
   "execution_count": 60,
   "metadata": {},
   "outputs": [
    {
     "data": {
      "image/png": "[encoded data removed]",
      "text/plain": [
       "<Figure size 1200x600 with 1 Axes>"
      ]
     },
     "metadata": {},
     "output_type": "display_data"
    }
   ],
   "source": [
    "# Let's see the box plot of ratings for each category\n",
    "fig = plt.figure(figsize=(12, 6))\n",
    "\n",
    "for i, category in enumerate(categories):\n",
    "    mask = review_mask[i]\n",
    "    predicated_scores = review_scores[i][mask].cpu()\n",
    "    real_scores = actual_scores[mask]\n",
    "\n",
    "    plt.boxplot(predicated_scores, positions=[i], showfliers=False)\n",
    "\n",
    "plt.xticks(range(len(categories)), categories)\n",
    "plt.title(\"Predicted Scores\")\n",
    "plt.show()\n"
   ]
  },
  {
   "cell_type": "markdown",
   "metadata": {},
   "source": [
    "We can also export the reviews to a csv file for further analysis."
   ]
  },
  {
   "cell_type": "code",
   "execution_count": 13,
   "metadata": {},
   "outputs": [],
   "source": [
    "import numpy as np\n",
    "import pandas as pd\n",
    "\n",
    "usefulness = np.load(\"usefulness.npy\")\n",
    "scores = np.load(\"scores.npy\")\n",
    "\n",
    "df = dataset.to_pandas()\n",
    "for i, category in enumerate(categories):\n",
    "    df[f\"{category}_usefulness\"] = usefulness[i]\n",
    "    df[f\"{category}_score\"] = scores[i]\n",
    "\n",
    "# save the dataframe\n",
    "df.to_csv(\"yelp_restaurant_review_labelled.csv\", index=False)"
   ]
  }
 ],
 "metadata": {
  "kernelspec": {
   "display_name": "env",
   "language": "python",
   "name": "python3"
  },
  "language_info": {
   "codemirror_mode": {
    "name": "ipython",
    "version": 3
   },
   "file_extension": ".py",
   "mimetype": "text/x-python",
   "name": "python",
   "nbconvert_exporter": "python",
   "pygments_lexer": "ipython3",
   "version": "3.10.10"
  }
 },
 "nbformat": 4,
 "nbformat_minor": 2
}
